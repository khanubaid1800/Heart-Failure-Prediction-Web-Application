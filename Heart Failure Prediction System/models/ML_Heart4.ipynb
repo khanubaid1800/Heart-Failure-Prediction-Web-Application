{
  "nbformat": 4,
  "nbformat_minor": 0,
  "metadata": {
    "colab": {
      "provenance": [],
      "collapsed_sections": [
        "AOHZpgupTxXt",
        "zIoKC-Cg_yMc",
        "gVnUPV5TGkmT",
        "9yMAyTSX_vb5",
        "JbGSm5mJL0L5",
        "6ODr8ZlzMHVd",
        "UCyv9MGaMMWj",
        "2D9g_8tKTM9I"
      ]
    },
    "kernelspec": {
      "name": "python3",
      "display_name": "Python 3"
    },
    "language_info": {
      "name": "python"
    }
  },
  "cells": [
    {
      "cell_type": "markdown",
      "source": [
        "# ***Import***"
      ],
      "metadata": {
        "id": "AOHZpgupTxXt"
      }
    },
    {
      "cell_type": "code",
      "execution_count": null,
      "metadata": {
        "id": "z4DMCbmh4aUw"
      },
      "outputs": [],
      "source": [
        "import pandas as pd\n",
        "import numpy as np\n",
        "import matplotlib.pyplot as plt\n",
        "import seaborn as sns\n",
        "import lightgbm as lgb\n",
        "import time\n",
        "from sklearn.metrics import classification_report, accuracy_score\n",
        "from sklearn.ensemble import IsolationForest\n",
        "from sklearn.neighbors import LocalOutlierFactor\n",
        "from sklearn.svm import OneClassSVM\n",
        "from pylab import rcParams\n",
        "from imblearn.combine import SMOTETomek\n",
        "from imblearn.under_sampling import NearMiss\n",
        "from collections import Counter\n",
        "from imblearn.over_sampling import RandomOverSampler, SMOTE\n",
        "from sklearn.impute import KNNImputer\n",
        "from sklearn.preprocessing import LabelEncoder\n",
        "from imblearn.under_sampling import NearMiss\n",
        "import sklearn.linear_model\n",
        "from sklearn.model_selection import train_test_split\n",
        "from sklearn.metrics import confusion_matrix, classification_report"
      ]
    },
    {
      "cell_type": "code",
      "source": [
        "df = pd.read_csv(\"heart4.csv\")"
      ],
      "metadata": {
        "id": "nYJfYExj4_vZ"
      },
      "execution_count": null,
      "outputs": []
    },
    {
      "cell_type": "code",
      "source": [
        "df.head()"
      ],
      "metadata": {
        "colab": {
          "base_uri": "https://localhost:8080/",
          "height": 206
        },
        "id": "dlaMKJbG5BVt",
        "outputId": "0264057d-c05f-4c96-9c9a-e7c68bef8138"
      },
      "execution_count": null,
      "outputs": [
        {
          "output_type": "execute_result",
          "data": {
            "text/plain": [
              "   male  age  cigsPerDay  BPMeds  prevalentStroke  prevalentHyp  diabetes  \\\n",
              "0     1   40         1.0     0.0                0             0         0   \n",
              "1     0   47         1.0     0.0                0             0         0   \n",
              "2     1   49        21.0     0.0                0             0         0   \n",
              "3     0   62        31.0     0.0                0             1         0   \n",
              "4     0   47        24.0     0.0                0             0         0   \n",
              "\n",
              "   totChol  sysBP  diaBP    BMI  heartRate  glucose  TenYearCHD  \n",
              "0    196.0  107.0   71.0  27.97       81.0     78.0           0  \n",
              "1    251.0  122.0   82.0  29.73       96.0     77.0           0  \n",
              "2    246.0  128.5   81.0  26.34       76.0     71.0           0  \n",
              "3    226.0  151.0   96.0  29.58       66.0     79.0           1  \n",
              "4    286.0  131.0   85.0  24.10       86.0     86.0           0  "
            ],
            "text/html": [
              "\n",
              "  <div id=\"df-e3a3549d-ba5c-41a1-a439-07c319fa812b\">\n",
              "    <div class=\"colab-df-container\">\n",
              "      <div>\n",
              "<style scoped>\n",
              "    .dataframe tbody tr th:only-of-type {\n",
              "        vertical-align: middle;\n",
              "    }\n",
              "\n",
              "    .dataframe tbody tr th {\n",
              "        vertical-align: top;\n",
              "    }\n",
              "\n",
              "    .dataframe thead th {\n",
              "        text-align: right;\n",
              "    }\n",
              "</style>\n",
              "<table border=\"1\" class=\"dataframe\">\n",
              "  <thead>\n",
              "    <tr style=\"text-align: right;\">\n",
              "      <th></th>\n",
              "      <th>male</th>\n",
              "      <th>age</th>\n",
              "      <th>cigsPerDay</th>\n",
              "      <th>BPMeds</th>\n",
              "      <th>prevalentStroke</th>\n",
              "      <th>prevalentHyp</th>\n",
              "      <th>diabetes</th>\n",
              "      <th>totChol</th>\n",
              "      <th>sysBP</th>\n",
              "      <th>diaBP</th>\n",
              "      <th>BMI</th>\n",
              "      <th>heartRate</th>\n",
              "      <th>glucose</th>\n",
              "      <th>TenYearCHD</th>\n",
              "    </tr>\n",
              "  </thead>\n",
              "  <tbody>\n",
              "    <tr>\n",
              "      <th>0</th>\n",
              "      <td>1</td>\n",
              "      <td>40</td>\n",
              "      <td>1.0</td>\n",
              "      <td>0.0</td>\n",
              "      <td>0</td>\n",
              "      <td>0</td>\n",
              "      <td>0</td>\n",
              "      <td>196.0</td>\n",
              "      <td>107.0</td>\n",
              "      <td>71.0</td>\n",
              "      <td>27.97</td>\n",
              "      <td>81.0</td>\n",
              "      <td>78.0</td>\n",
              "      <td>0</td>\n",
              "    </tr>\n",
              "    <tr>\n",
              "      <th>1</th>\n",
              "      <td>0</td>\n",
              "      <td>47</td>\n",
              "      <td>1.0</td>\n",
              "      <td>0.0</td>\n",
              "      <td>0</td>\n",
              "      <td>0</td>\n",
              "      <td>0</td>\n",
              "      <td>251.0</td>\n",
              "      <td>122.0</td>\n",
              "      <td>82.0</td>\n",
              "      <td>29.73</td>\n",
              "      <td>96.0</td>\n",
              "      <td>77.0</td>\n",
              "      <td>0</td>\n",
              "    </tr>\n",
              "    <tr>\n",
              "      <th>2</th>\n",
              "      <td>1</td>\n",
              "      <td>49</td>\n",
              "      <td>21.0</td>\n",
              "      <td>0.0</td>\n",
              "      <td>0</td>\n",
              "      <td>0</td>\n",
              "      <td>0</td>\n",
              "      <td>246.0</td>\n",
              "      <td>128.5</td>\n",
              "      <td>81.0</td>\n",
              "      <td>26.34</td>\n",
              "      <td>76.0</td>\n",
              "      <td>71.0</td>\n",
              "      <td>0</td>\n",
              "    </tr>\n",
              "    <tr>\n",
              "      <th>3</th>\n",
              "      <td>0</td>\n",
              "      <td>62</td>\n",
              "      <td>31.0</td>\n",
              "      <td>0.0</td>\n",
              "      <td>0</td>\n",
              "      <td>1</td>\n",
              "      <td>0</td>\n",
              "      <td>226.0</td>\n",
              "      <td>151.0</td>\n",
              "      <td>96.0</td>\n",
              "      <td>29.58</td>\n",
              "      <td>66.0</td>\n",
              "      <td>79.0</td>\n",
              "      <td>1</td>\n",
              "    </tr>\n",
              "    <tr>\n",
              "      <th>4</th>\n",
              "      <td>0</td>\n",
              "      <td>47</td>\n",
              "      <td>24.0</td>\n",
              "      <td>0.0</td>\n",
              "      <td>0</td>\n",
              "      <td>0</td>\n",
              "      <td>0</td>\n",
              "      <td>286.0</td>\n",
              "      <td>131.0</td>\n",
              "      <td>85.0</td>\n",
              "      <td>24.10</td>\n",
              "      <td>86.0</td>\n",
              "      <td>86.0</td>\n",
              "      <td>0</td>\n",
              "    </tr>\n",
              "  </tbody>\n",
              "</table>\n",
              "</div>\n",
              "      <button class=\"colab-df-convert\" onclick=\"convertToInteractive('df-e3a3549d-ba5c-41a1-a439-07c319fa812b')\"\n",
              "              title=\"Convert this dataframe to an interactive table.\"\n",
              "              style=\"display:none;\">\n",
              "        \n",
              "  <svg xmlns=\"http://www.w3.org/2000/svg\" height=\"24px\"viewBox=\"0 0 24 24\"\n",
              "       width=\"24px\">\n",
              "    <path d=\"M0 0h24v24H0V0z\" fill=\"none\"/>\n",
              "    <path d=\"M18.56 5.44l.94 2.06.94-2.06 2.06-.94-2.06-.94-.94-2.06-.94 2.06-2.06.94zm-11 1L8.5 8.5l.94-2.06 2.06-.94-2.06-.94L8.5 2.5l-.94 2.06-2.06.94zm10 10l.94 2.06.94-2.06 2.06-.94-2.06-.94-.94-2.06-.94 2.06-2.06.94z\"/><path d=\"M17.41 7.96l-1.37-1.37c-.4-.4-.92-.59-1.43-.59-.52 0-1.04.2-1.43.59L10.3 9.45l-7.72 7.72c-.78.78-.78 2.05 0 2.83L4 21.41c.39.39.9.59 1.41.59.51 0 1.02-.2 1.41-.59l7.78-7.78 2.81-2.81c.8-.78.8-2.07 0-2.86zM5.41 20L4 18.59l7.72-7.72 1.47 1.35L5.41 20z\"/>\n",
              "  </svg>\n",
              "      </button>\n",
              "      \n",
              "  <style>\n",
              "    .colab-df-container {\n",
              "      display:flex;\n",
              "      flex-wrap:wrap;\n",
              "      gap: 12px;\n",
              "    }\n",
              "\n",
              "    .colab-df-convert {\n",
              "      background-color: #E8F0FE;\n",
              "      border: none;\n",
              "      border-radius: 50%;\n",
              "      cursor: pointer;\n",
              "      display: none;\n",
              "      fill: #1967D2;\n",
              "      height: 32px;\n",
              "      padding: 0 0 0 0;\n",
              "      width: 32px;\n",
              "    }\n",
              "\n",
              "    .colab-df-convert:hover {\n",
              "      background-color: #E2EBFA;\n",
              "      box-shadow: 0px 1px 2px rgba(60, 64, 67, 0.3), 0px 1px 3px 1px rgba(60, 64, 67, 0.15);\n",
              "      fill: #174EA6;\n",
              "    }\n",
              "\n",
              "    [theme=dark] .colab-df-convert {\n",
              "      background-color: #3B4455;\n",
              "      fill: #D2E3FC;\n",
              "    }\n",
              "\n",
              "    [theme=dark] .colab-df-convert:hover {\n",
              "      background-color: #434B5C;\n",
              "      box-shadow: 0px 1px 3px 1px rgba(0, 0, 0, 0.15);\n",
              "      filter: drop-shadow(0px 1px 2px rgba(0, 0, 0, 0.3));\n",
              "      fill: #FFFFFF;\n",
              "    }\n",
              "  </style>\n",
              "\n",
              "      <script>\n",
              "        const buttonEl =\n",
              "          document.querySelector('#df-e3a3549d-ba5c-41a1-a439-07c319fa812b button.colab-df-convert');\n",
              "        buttonEl.style.display =\n",
              "          google.colab.kernel.accessAllowed ? 'block' : 'none';\n",
              "\n",
              "        async function convertToInteractive(key) {\n",
              "          const element = document.querySelector('#df-e3a3549d-ba5c-41a1-a439-07c319fa812b');\n",
              "          const dataTable =\n",
              "            await google.colab.kernel.invokeFunction('convertToInteractive',\n",
              "                                                     [key], {});\n",
              "          if (!dataTable) return;\n",
              "\n",
              "          const docLinkHtml = 'Like what you see? Visit the ' +\n",
              "            '<a target=\"_blank\" href=https://colab.research.google.com/notebooks/data_table.ipynb>data table notebook</a>'\n",
              "            + ' to learn more about interactive tables.';\n",
              "          element.innerHTML = '';\n",
              "          dataTable['output_type'] = 'display_data';\n",
              "          await google.colab.output.renderOutput(dataTable, element);\n",
              "          const docLink = document.createElement('div');\n",
              "          docLink.innerHTML = docLinkHtml;\n",
              "          element.appendChild(docLink);\n",
              "        }\n",
              "      </script>\n",
              "    </div>\n",
              "  </div>\n",
              "  "
            ]
          },
          "metadata": {},
          "execution_count": 64
        }
      ]
    },
    {
      "cell_type": "code",
      "source": [
        "X = df.drop(['TenYearCHD'],axis=1)\n",
        "y = df['TenYearCHD']"
      ],
      "metadata": {
        "id": "nUjkgfTHGhJZ"
      },
      "execution_count": null,
      "outputs": []
    },
    {
      "cell_type": "markdown",
      "metadata": {
        "id": "zIoKC-Cg_yMc"
      },
      "source": [
        "# ***Spliting the Data***"
      ]
    },
    {
      "cell_type": "code",
      "execution_count": null,
      "metadata": {
        "id": "kUQn1mgK_3Ki"
      },
      "outputs": [],
      "source": [
        "# separate dataset into train and test\n",
        "from sklearn.model_selection import train_test_split\n",
        "X_train, X_test, y_train, y_test = train_test_split(\n",
        "    X,\n",
        "    y,\n",
        "    test_size=0.3,\n",
        "    random_state=0)"
      ]
    },
    {
      "cell_type": "markdown",
      "source": [
        "# ***Cross validation***\n",
        "K Fold Cross Validation"
      ],
      "metadata": {
        "id": "gVnUPV5TGkmT"
      }
    },
    {
      "cell_type": "code",
      "source": [
        "from sklearn.model_selection import KFold\n",
        "from sklearn.ensemble import RandomForestClassifier\n",
        "from sklearn import tree\n",
        "model=RandomForestClassifier()\n",
        "from sklearn import tree\n",
        "kfold_validation=KFold(n_splits=10, random_state = 42, shuffle=True)"
      ],
      "metadata": {
        "id": "ZEk2LWzSGhbZ"
      },
      "execution_count": null,
      "outputs": []
    },
    {
      "cell_type": "code",
      "source": [
        "import numpy as np\n",
        "from sklearn.model_selection import cross_val_score\n",
        "results=cross_val_score(model,X,y,cv=kfold_validation)\n",
        "print(results)\n",
        "print(np.mean(results))"
      ],
      "metadata": {
        "id": "fi09VHvWGnWN",
        "colab": {
          "base_uri": "https://localhost:8080/"
        },
        "outputId": "ac30e73e-ca51-4471-d9d0-a8da6f3415df"
      },
      "execution_count": null,
      "outputs": [
        {
          "output_type": "stream",
          "name": "stdout",
          "text": [
            "[0.97357441 0.98052851 0.98470097 0.97635605 0.98331015 0.97635605\n",
            " 0.98052851 0.97913769 0.98050139 0.98050139]\n",
            "0.9795495136002106\n"
          ]
        }
      ]
    },
    {
      "cell_type": "markdown",
      "metadata": {
        "id": "9yMAyTSX_vb5"
      },
      "source": [
        "# ***Random Forest***"
      ]
    },
    {
      "cell_type": "code",
      "execution_count": null,
      "metadata": {
        "id": "5rU_obFW_wuL",
        "colab": {
          "base_uri": "https://localhost:8080/"
        },
        "outputId": "b4162089-0fdd-476f-815c-5f7692271b55"
      },
      "outputs": [
        {
          "output_type": "stream",
          "name": "stdout",
          "text": [
            "\n",
            "Accuracy for training set for Random Forest = 1.0\n",
            "Accuracy for test set for Random Forest = 0.9564209550301345\n",
            " AUC Score: 0.9931531523785777\n",
            "[[ 991   79]\n",
            " [  15 1072]]\n",
            "\n",
            "\n",
            "              precision    recall  f1-score   support\n",
            "\n",
            "           0       0.99      0.93      0.95      1070\n",
            "           1       0.93      0.99      0.96      1087\n",
            "\n",
            "    accuracy                           0.96      2157\n",
            "   macro avg       0.96      0.96      0.96      2157\n",
            "weighted avg       0.96      0.96      0.96      2157\n",
            "\n"
          ]
        }
      ],
      "source": [
        "from sklearn.ensemble import RandomForestClassifier\n",
        "classifier = RandomForestClassifier(n_estimators = 100)\n",
        "classifier.fit(X_train, y_train)\n",
        "\n",
        "\n",
        "# Predicting the Test set results\n",
        "y_pred = classifier.predict(X_test)\n",
        "\n",
        "from sklearn.metrics import confusion_matrix\n",
        "cm_test = confusion_matrix(y_pred, y_test)\n",
        "\n",
        "y_pred_train = classifier.predict(X_train)\n",
        "cm_train = confusion_matrix(y_pred_train, y_train)\n",
        "\n",
        "print()\n",
        "print('Accuracy for training set for Random Forest = {}'.format((cm_train[0][0] + cm_train[1][1])/len(y_train)))\n",
        "print('Accuracy for test set for Random Forest = {}'.format((cm_test[0][0] + cm_test[1][1])/len(y_test)))\n",
        "\n",
        "pred_prob1 = classifier.predict_proba(X_test)\n",
        "from sklearn.metrics import roc_auc_score\n",
        " \n",
        "#AUC scores\n",
        "auc_score1 = roc_auc_score(y_test, pred_prob1[:,1])\n",
        "\n",
        "print(\" AUC Score:\", auc_score1) \n",
        "\n",
        "from sklearn.metrics import classification_report, confusion_matrix\n",
        "print(confusion_matrix(y_test, y_pred))\n",
        "print('\\n')\n",
        "print(classification_report(y_test, y_pred))"
      ]
    },
    {
      "cell_type": "markdown",
      "source": [
        "# ***Logistics Regression***"
      ],
      "metadata": {
        "id": "JbGSm5mJL0L5"
      }
    },
    {
      "cell_type": "code",
      "source": [
        "from sklearn.linear_model import LogisticRegression\n",
        "classifier = LogisticRegression(random_state=0, solver='lbfgs')\n",
        "classifier.fit(X_train, y_train)\n",
        "\n",
        "start = time.time()\n",
        "\n",
        "# Predicting the Test set results\n",
        "y_pred = classifier.predict(X_test)\n",
        "\n",
        "from sklearn.metrics import confusion_matrix, precision_score\n",
        "cm_test = confusion_matrix(y_pred, y_test)\n",
        "\n",
        "y_pred_train = classifier.predict(X_train)\n",
        "cm_train = confusion_matrix(y_pred_train, y_train)\n",
        "pred_prob2 = classifier.predict_proba(X_test)\n",
        "from sklearn.metrics import roc_auc_score\n",
        " \n",
        "#AUC scores\n",
        "auc_score2 = roc_auc_score(y_test, pred_prob1[:,1])\n",
        "\n",
        "print(\" AUC Score:\", auc_score1) \n",
        "\n",
        "print()\n",
        "print('Accuracy for training set for Logistic Regression = {}'.format((cm_train[0][0] + cm_train[1][1])/len(y_train)))\n",
        "print('Accuracy for test set for Logistic Regression = {}'.format((cm_test[0][0] + cm_test[1][1])/len(y_test)))\n",
        "\n",
        "print(confusion_matrix(y_test, y_pred))\n",
        "print('\\n')\n",
        "print(classification_report(y_test, y_pred))\n",
        "end = time.time()\n",
        "diff = end - start\n",
        "print('Execution time:', diff)"
      ],
      "metadata": {
        "id": "aZWFunyXMH8Q",
        "colab": {
          "base_uri": "https://localhost:8080/"
        },
        "outputId": "76005278-5f55-45a1-e1ce-40e78db55006"
      },
      "execution_count": null,
      "outputs": [
        {
          "output_type": "stream",
          "name": "stdout",
          "text": [
            " AUC Score: 0.9931531523785777\n",
            "\n",
            "Accuracy for training set for Logistic Regression = 0.661498708010336\n",
            "Accuracy for test set for Logistic Regression = 0.6629578117756143\n",
            "[[727 343]\n",
            " [384 703]]\n",
            "\n",
            "\n",
            "              precision    recall  f1-score   support\n",
            "\n",
            "           0       0.65      0.68      0.67      1070\n",
            "           1       0.67      0.65      0.66      1087\n",
            "\n",
            "    accuracy                           0.66      2157\n",
            "   macro avg       0.66      0.66      0.66      2157\n",
            "weighted avg       0.66      0.66      0.66      2157\n",
            "\n",
            "Execution time: 0.02909255027770996\n"
          ]
        },
        {
          "output_type": "stream",
          "name": "stderr",
          "text": [
            "/usr/local/lib/python3.8/dist-packages/sklearn/linear_model/_logistic.py:814: ConvergenceWarning: lbfgs failed to converge (status=1):\n",
            "STOP: TOTAL NO. of ITERATIONS REACHED LIMIT.\n",
            "\n",
            "Increase the number of iterations (max_iter) or scale the data as shown in:\n",
            "    https://scikit-learn.org/stable/modules/preprocessing.html\n",
            "Please also refer to the documentation for alternative solver options:\n",
            "    https://scikit-learn.org/stable/modules/linear_model.html#logistic-regression\n",
            "  n_iter_i = _check_optimize_result(\n"
          ]
        }
      ]
    },
    {
      "cell_type": "markdown",
      "source": [
        "# ***Support Vector Machine***\n",
        "**SVM**"
      ],
      "metadata": {
        "id": "6ODr8ZlzMHVd"
      }
    },
    {
      "cell_type": "code",
      "source": [
        "from sklearn.svm import SVC\n",
        "svclassifier = SVC(kernel='linear')\n",
        "svclassifier.fit(X_train, y_train)"
      ],
      "metadata": {
        "id": "3elXI6prML2E",
        "colab": {
          "base_uri": "https://localhost:8080/"
        },
        "outputId": "af4a52a7-ebbb-4d82-caf7-4f775d8246cf"
      },
      "execution_count": null,
      "outputs": [
        {
          "output_type": "execute_result",
          "data": {
            "text/plain": [
              "SVC(kernel='linear')"
            ]
          },
          "metadata": {},
          "execution_count": 71
        }
      ]
    },
    {
      "cell_type": "code",
      "source": [
        "y_pred = svclassifier.predict(X_test)\n",
        "\n",
        "print('Accuracy for training set for SVM = {}'.format((cm_train[0][0] + cm_train[1][1])/len(y_train)))\n",
        "print('Accuracy for test set for SVM = {}'.format((cm_test[0][0] + cm_test[1][1])/len(y_test)))\n",
        "\n",
        "from sklearn.metrics import classification_report, confusion_matrix\n",
        "print(confusion_matrix(y_test,y_pred))\n",
        "print('\\n')\n",
        "print(classification_report(y_test,y_pred))\n",
        "pred_prob3 = classifier.predict_proba(X_test)\n",
        "from sklearn.metrics import roc_auc_score\n",
        " \n",
        "#AUC scores\n",
        "auc_score3 = roc_auc_score(y_test, pred_prob1[:,1])\n",
        "\n",
        "print(\" AUC Score:\", auc_score1) "
      ],
      "metadata": {
        "id": "gTHMAYERMnSk",
        "colab": {
          "base_uri": "https://localhost:8080/"
        },
        "outputId": "a2140410-f666-4c3c-e357-336a1e49572b"
      },
      "execution_count": null,
      "outputs": [
        {
          "output_type": "stream",
          "name": "stdout",
          "text": [
            "Accuracy for training set for SVM = 0.661498708010336\n",
            "Accuracy for test set for SVM = 0.6629578117756143\n",
            "[[722 348]\n",
            " [340 747]]\n",
            "\n",
            "\n",
            "              precision    recall  f1-score   support\n",
            "\n",
            "           0       0.68      0.67      0.68      1070\n",
            "           1       0.68      0.69      0.68      1087\n",
            "\n",
            "    accuracy                           0.68      2157\n",
            "   macro avg       0.68      0.68      0.68      2157\n",
            "weighted avg       0.68      0.68      0.68      2157\n",
            "\n",
            " AUC Score: 0.9931531523785777\n"
          ]
        }
      ]
    },
    {
      "cell_type": "markdown",
      "source": [
        "**Kernal SVM**"
      ],
      "metadata": {
        "id": "TAdORcluMuMB"
      }
    },
    {
      "cell_type": "code",
      "source": [
        "from sklearn.svm import SVC\n",
        "svclassifier = SVC(kernel='poly', degree=8)\n",
        "svclassifier.fit(X_train, y_train)"
      ],
      "metadata": {
        "id": "KarlvKGgMxv6",
        "colab": {
          "base_uri": "https://localhost:8080/"
        },
        "outputId": "f3e973b3-d3a5-4fcd-8ca8-c745a14aa018"
      },
      "execution_count": null,
      "outputs": [
        {
          "output_type": "execute_result",
          "data": {
            "text/plain": [
              "SVC(degree=8, kernel='poly')"
            ]
          },
          "metadata": {},
          "execution_count": 73
        }
      ]
    },
    {
      "cell_type": "code",
      "source": [
        "y_pred = svclassifier.predict(X_test)\n",
        "\n",
        "from sklearn.metrics import classification_report, confusion_matrix\n",
        "print(confusion_matrix(y_test, y_pred))\n",
        "print('\\n')\n",
        "print(classification_report(y_test, y_pred))\n",
        "pred_prob4 = classifier.predict_proba(X_test)\n",
        "from sklearn.metrics import roc_auc_score\n",
        " \n",
        "#AUC scores\n",
        "auc_score4 = roc_auc_score(y_test, pred_prob1[:,1])\n",
        "\n",
        "print(\" AUC Score:\", auc_score1) "
      ],
      "metadata": {
        "id": "4iA2-eXXMxyZ",
        "colab": {
          "base_uri": "https://localhost:8080/"
        },
        "outputId": "fa3ac47b-7e99-4dfa-f9ac-a5e1438f770a"
      },
      "execution_count": null,
      "outputs": [
        {
          "output_type": "stream",
          "name": "stdout",
          "text": [
            "[[828 242]\n",
            " [515 572]]\n",
            "\n",
            "\n",
            "              precision    recall  f1-score   support\n",
            "\n",
            "           0       0.62      0.77      0.69      1070\n",
            "           1       0.70      0.53      0.60      1087\n",
            "\n",
            "    accuracy                           0.65      2157\n",
            "   macro avg       0.66      0.65      0.64      2157\n",
            "weighted avg       0.66      0.65      0.64      2157\n",
            "\n",
            " AUC Score: 0.9931531523785777\n"
          ]
        }
      ]
    },
    {
      "cell_type": "markdown",
      "source": [
        "# ***LightGBM***"
      ],
      "metadata": {
        "id": "UCyv9MGaMMWj"
      }
    },
    {
      "cell_type": "code",
      "source": [
        "import lightgbm as lgb\n",
        "\n",
        "d_train = lgb.Dataset(X_train, label = y_train)\n",
        "params = {}\n",
        "\n",
        "clf = lgb.train(params, d_train, 100)\n",
        "#Prediction\n",
        "y_pred = clf.predict(X_test)\n",
        "#convert into binary values\n",
        "for i in range(0, len(y_pred)):\n",
        "    if y_pred[i]>= 0.5:       # setting threshold to .5\n",
        "       y_pred[i]=1\n",
        "    else:\n",
        "       y_pred[i]=0\n",
        "\n",
        "from sklearn.metrics import confusion_matrix\n",
        "cm_test = confusion_matrix(y_pred, y_test)\n",
        "\n",
        "y_pred_train = clf.predict(X_train)\n",
        "for i in range(0, len(y_pred_train)):\n",
        "    if y_pred_train[i]>= 0.5:       # setting threshold to .5\n",
        "       y_pred_train[i]=1\n",
        "    else:\n",
        "       y_pred_train[i]=0\n",
        "\n",
        "cm_train = confusion_matrix(y_pred_train, y_train)\n",
        "print(confusion_matrix(y_test, y_pred))\n",
        "pred_prob5 = classifier.predict_proba(X_test)\n",
        "from sklearn.metrics import roc_auc_score\n",
        " \n",
        "#AUC scores\n",
        "auc_score5 = roc_auc_score(y_test, pred_prob1[:,1])\n",
        "\n",
        "print(\" AUC Score:\", auc_score1) \n",
        "print()\n",
        "print('Accuracy for training set for LightGBM = {}'.format((cm_train[0][0] + cm_train[1][1])/len(y_train)))\n",
        "print('Accuracy for test set for LightGBM = {}'.format((cm_test[0][0] + cm_test[1][1])/len(y_test)))\n",
        "print(classification_report(y_test, y_pred))"
      ],
      "metadata": {
        "id": "oRb8os4pMi3v",
        "colab": {
          "base_uri": "https://localhost:8080/"
        },
        "outputId": "9fce4264-46b2-45ec-eb1f-fc96f0da1756"
      },
      "execution_count": null,
      "outputs": [
        {
          "output_type": "stream",
          "name": "stdout",
          "text": [
            "[[872 198]\n",
            " [100 987]]\n",
            " AUC Score: 0.9931531523785777\n",
            "\n",
            "Accuracy for training set for LightGBM = 0.9493142516398331\n",
            "Accuracy for test set for LightGBM = 0.8618451553082985\n",
            "              precision    recall  f1-score   support\n",
            "\n",
            "           0       0.90      0.81      0.85      1070\n",
            "           1       0.83      0.91      0.87      1087\n",
            "\n",
            "    accuracy                           0.86      2157\n",
            "   macro avg       0.87      0.86      0.86      2157\n",
            "weighted avg       0.86      0.86      0.86      2157\n",
            "\n"
          ]
        }
      ]
    },
    {
      "cell_type": "markdown",
      "source": [
        "# ***ROC***"
      ],
      "metadata": {
        "id": "2D9g_8tKTM9I"
      }
    },
    {
      "cell_type": "code",
      "source": [
        "from sklearn.metrics import roc_curve\n",
        "\n",
        "fpr1, tpr1, thresh1 = roc_curve(y_test, pred_prob1[:,1], pos_label=1)\n",
        "\n",
        "#ROC curve for TPR=FPR\n",
        "random_probs = [0 for i in range(len(y_test))]\n",
        "p_fpr, p_tpr, _ = roc_curve(y_test, random_probs, pos_label=1)\n",
        "#Plot roc curves\n",
        "plt.plot(fpr1, tpr1, linestyle='--',color='orange', label='Random Forest')\n",
        "plt.plot(p_fpr, p_tpr, linestyle='--', color='black')\n",
        "#title\n",
        "plt.title('ROC curve')\n",
        "#x-label\n",
        "plt.xlabel('False Positive Rate')\n",
        "#y-label\n",
        "plt.ylabel('True Positive rate')\n",
        " \n",
        "plt.legend(loc='best')\n",
        "plt.savefig('ROC',dpi=300)\n",
        "plt.show();"
      ],
      "metadata": {
        "colab": {
          "base_uri": "https://localhost:8080/",
          "height": 295
        },
        "id": "4jVs-v6tKMd_",
        "outputId": "eea81be8-feb5-49b7-8cf5-aa9dfeeb5bf3"
      },
      "execution_count": null,
      "outputs": [
        {
          "output_type": "display_data",
          "data": {
            "text/plain": [
              "<Figure size 432x288 with 1 Axes>"
            ],
            "image/png": "[encoded data removed]"
          },
          "metadata": {
            "needs_background": "light"
          }
        }
      ]
    },
    {
      "cell_type": "code",
      "source": [
        "from sklearn.metrics import roc_curve\n",
        "\n",
        "\n",
        "fpr2, tpr2, thresh2 = roc_curve(y_test, pred_prob2[:,1], pos_label=1)\n",
        "fpr3, tpr3, thresh3 = roc_curve(y_test, pred_prob3[:,1], pos_label=1)\n",
        "fpr4, tpr4, thresh4 = roc_curve(y_test, pred_prob4[:,1], pos_label=1)\n",
        "fpr5, tpr5, thresh5 = roc_curve(y_test, pred_prob5[:,1], pos_label=1)\n",
        "#ROC curve for TPR=FPR\n",
        "random_probs = [0 for i in range(len(y_test))]\n",
        "p_fpr, p_tpr, _ = roc_curve(y_test, random_probs, pos_label=1)\n",
        "#Plot roc curves\n",
        "# plt.plot(fpr2, tpr2, linestyle='--',color='green', label='LR')\n",
        "# plt.plot(fpr3, tpr3, linestyle='--',color='red', label='SVM')\n",
        "# plt.plot(fpr4, tpr4, linestyle='--',color='yellow', label='KSVM')\n",
        "plt.plot(fpr5, tpr5, linestyle='--',color='blue', label='LGB')\n",
        "plt.plot(p_fpr, p_tpr, linestyle='--', color='black')\n",
        "#title\n",
        "plt.title('ROC curve')\n",
        "#x-label\n",
        "plt.xlabel('False Positive Rate')\n",
        "#y-label\n",
        "plt.ylabel('True Positive rate')\n",
        " \n",
        "plt.legend(loc='best')\n",
        "plt.savefig('ROC',dpi=300)\n",
        "plt.show();"
      ],
      "metadata": {
        "colab": {
          "base_uri": "https://localhost:8080/",
          "height": 295
        },
        "outputId": "6d243b6f-6e26-47fb-8533-840c1d21233e",
        "id": "FhuRrIrTSEzg"
      },
      "execution_count": null,
      "outputs": [
        {
          "output_type": "display_data",
          "data": {
            "text/plain": [
              "<Figure size 432x288 with 1 Axes>"
            ],
            "image/png": "[encoded data removed]"
          },
          "metadata": {
            "needs_background": "light"
          }
        }
      ]
    }
  ]
}