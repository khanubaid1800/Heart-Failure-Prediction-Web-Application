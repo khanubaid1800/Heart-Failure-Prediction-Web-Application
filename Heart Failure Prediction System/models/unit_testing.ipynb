{
 "cells": [
  {
   "attachments": {},
   "cell_type": "markdown",
   "metadata": {},
   "source": [
    "Unit Testing"
   ]
  },
  {
   "cell_type": "code",
   "execution_count": 2,
   "metadata": {},
   "outputs": [
    {
     "name": "stdout",
     "output_type": "stream",
     "text": [
      "Test passed\n"
     ]
    }
   ],
   "source": [
    "\n",
    "\n",
    "import numpy as np\n",
    "from sklearn.model_selection import train_test_split\n",
    "from sklearn.metrics import accuracy_score\n",
    "import pandas as pd\n",
    "from sklearn.ensemble import RandomForestClassifier\n",
    "\n",
    "\n",
    "\n",
    "def test_random_forest():\n",
    "    # Load dataset\n",
    "    test_data = pd.read_csv(\"heart4.csv\")\n",
    "    X = test_data.drop('TenYearCHD', axis=1)\n",
    "    y = test_data['TenYearCHD']\n",
    "\n",
    "    # Split data into training and test sets\n",
    "    X_train, X_test, y_train, y_test = train_test_split(\n",
    "        X, y, test_size=0.2, random_state=42)\n",
    "\n",
    "    # Create random forest model\n",
    "    model = RandomForestClassifier(n_estimators=100)\n",
    "\n",
    "    # Train model on training data\n",
    "    model.fit(X_train, y_train)\n",
    "\n",
    "    # Make predictions on test data\n",
    "    y_pred = model.predict(X_test)\n",
    "\n",
    "    # Calculate accuracy of predictions\n",
    "    accuracy = accuracy_score(y_test, y_pred)\n",
    "\n",
    "    # Assert that accuracy is greater than 0.9\n",
    "    assert accuracy > 0.9\n",
    "\n",
    "\n",
    "test_random_forest()  # Run the function\n",
    "\n",
    "print(\"Test passed\")  # Print a message if the function passes without errors\n"
   ]
  },
  {
   "attachments": {},
   "cell_type": "markdown",
   "metadata": {},
   "source": [
    "Integration Testing"
   ]
  },
  {
   "cell_type": "code",
   "execution_count": 4,
   "metadata": {},
   "outputs": [
    {
     "name": "stdout",
     "output_type": "stream",
     "text": [
      "Test passed\n"
     ]
    }
   ],
   "source": [
    "import pandas as pd\n",
    "from sklearn.model_selection import train_test_split\n",
    "from sklearn.ensemble import RandomForestClassifier\n",
    "from sklearn.metrics import accuracy_score\n",
    "\n",
    "\n",
    "def test_model_performance():\n",
    "    # Load test data\n",
    "    test_data = pd.read_csv('heart4.csv')\n",
    "\n",
    "    # Get input features and target variable\n",
    "    X = test_data.drop('TenYearCHD', axis=1)\n",
    "    y = test_data['TenYearCHD']\n",
    "\n",
    "    # Split data into training and testing sets\n",
    "    X_train, X_test, y_train, y_test = train_test_split(\n",
    "        X, y, test_size=0.2, random_state=42)\n",
    "\n",
    "    # Fit logistic regression model to training data\n",
    "    model = RandomForestClassifier(random_state=42)\n",
    "    model.fit(X_train, y_train)\n",
    "\n",
    "    # Make predictions on test data\n",
    "    y_pred = model.predict(X_test)\n",
    "\n",
    "    # Calculate accuracy score\n",
    "    accuracy = accuracy_score(y_test, y_pred)\n",
    "\n",
    "    # Check that accuracy score is above a certain threshold\n",
    "    assert accuracy >= 0.75\n",
    "\n",
    "\n",
    "test_model_performance()  # Run the function\n",
    "\n",
    "print(\"Test passed\")  # Print a message if the function passes without errors\n"
   ]
  },
  {
   "attachments": {},
   "cell_type": "markdown",
   "metadata": {},
   "source": [
    "System testing"
   ]
  },
  {
   "cell_type": "code",
   "execution_count": 6,
   "metadata": {},
   "outputs": [
    {
     "name": "stdout",
     "output_type": "stream",
     "text": [
      "Test passed\n"
     ]
    }
   ],
   "source": [
    "import pandas as pd\n",
    "from sklearn.model_selection import train_test_split\n",
    "from sklearn.pipeline import Pipeline\n",
    "from sklearn.impute import SimpleImputer\n",
    "from sklearn.preprocessing import StandardScaler\n",
    "from sklearn.ensemble import RandomForestClassifier\n",
    "from sklearn.metrics import accuracy_score\n",
    "\n",
    "\n",
    "def test_classification_pipeline():\n",
    "    # Load test data\n",
    "    test_data = pd.read_csv('heart4.csv')\n",
    "\n",
    "    # Get input features and target variable\n",
    "    X = test_data.drop('TenYearCHD', axis=1)\n",
    "    y = test_data['TenYearCHD']\n",
    "\n",
    "    # Split data into training and testing sets\n",
    "    X_train, X_test, y_train, y_test = train_test_split(\n",
    "        X, y, test_size=0.2, random_state=42)\n",
    "\n",
    "    # Define pipeline\n",
    "    pipeline = Pipeline([\n",
    "        ('imputer', SimpleImputer(strategy='mean')),\n",
    "        ('scaler', StandardScaler()),\n",
    "        ('classifier', RandomForestClassifier(random_state=42))\n",
    "    ])\n",
    "\n",
    "    # Fit pipeline to training data\n",
    "    pipeline.fit(X_train, y_train)\n",
    "\n",
    "    # Make predictions on test data\n",
    "    y_pred = pipeline.predict(X_test)\n",
    "\n",
    "    # Calculate accuracy score\n",
    "    accuracy = accuracy_score(y_test, y_pred)\n",
    "\n",
    "    # Check that accuracy score is above a certain threshold\n",
    "    assert accuracy >= 0.75\n",
    "\n",
    "\n",
    "test_classification_pipeline()  # Run the function\n",
    "\n",
    "print(\"Test passed\")  # Print a message if the function passes without errors\n"
   ]
  },
  {
   "cell_type": "code",
   "execution_count": null,
   "metadata": {},
   "outputs": [],
   "source": [
    "import unittest\n",
    "\n",
    "\n",
    "class TestHeartDiseasePrediction(unittest.TestCase):\n",
    "\n",
    "    def test_preprocess_data(self):\n",
    "        # Load test data\n",
    "        test_data = pd.read_csv('heart4.csv')\n",
    "\n",
    "        # Get input features and target variable\n",
    "        X = test_data.drop('TenYearCHD', axis=1)\n",
    "        y = test_data['TenYearCHD']\n",
    "\n",
    "        # Call function to preprocess test data\n",
    "        preprocessed_data = preprocess_data(X)\n",
    "\n",
    "        # Check that preprocessed_data has the same number of rows and columns as X\n",
    "        self.assertEqual(preprocessed_data.shape, X.shape)\n",
    "\n",
    "        # Check that there are no missing values in preprocessed_data\n",
    "        self.assertEqual(preprocessed_data.isnull().sum().sum(), 0)\n",
    "\n",
    "        # Check that preprocessed_data has the correct data type\n",
    "        self.assertEqual(preprocessed_data.dtypes.unique(),\n",
    "                         np.dtype('float64'))\n",
    "\n",
    "    def test_logistic_regression(self):\n",
    "        # Load iris dataset\n",
    "        iris = load_iris()\n",
    "        X = iris.data\n",
    "        y = iris.target\n",
    "\n",
    "        # Split data into training and test sets\n",
    "        X_train, X_test, y_train, y_test = train_test_split(\n",
    "            X, y, test_size=0.2, random_state=42)\n",
    "\n",
    "        # Create logistic regression model\n",
    "        model = LogisticRegression()\n",
    "\n",
    "        # Train model on training data\n",
    "        model.fit(X_train, y_train)\n",
    "\n",
    "        # Make predictions on test data\n",
    "        y_pred = model.predict(X_test)\n",
    "\n",
    "        # Calculate accuracy of predictions\n",
    "        accuracy = accuracy_score(y_test, y_pred)\n",
    "\n",
    "        # Assert that accuracy is greater than 0.9\n",
    "        self.assertGreater(accuracy, 0.9)\n",
    "\n",
    "\n",
    "if __name__ == '__main__':\n",
    "    unittest.main(argv=['first-arg-is-ignored'], exit=False)\n"
   ]
  }
 ],
 "metadata": {
  "kernelspec": {
   "display_name": "env_ephf",
   "language": "python",
   "name": "python3"
  },
  "language_info": {
   "codemirror_mode": {
    "name": "ipython",
    "version": 3
   },
   "file_extension": ".py",
   "mimetype": "text/x-python",
   "name": "python",
   "nbconvert_exporter": "python",
   "pygments_lexer": "ipython3",
   "version": "3.11.0"
  },
  "orig_nbformat": 4
 },
 "nbformat": 4,
 "nbformat_minor": 2
}
